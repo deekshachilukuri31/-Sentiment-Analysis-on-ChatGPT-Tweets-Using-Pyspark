{
  "nbformat": 4,
  "nbformat_minor": 0,
  "metadata": {
    "colab": {
      "provenance": []
    },
    "kernelspec": {
      "name": "python3",
      "display_name": "Python 3"
    },
    "language_info": {
      "name": "python"
    }
  },
  "cells": [
    {
      "cell_type": "code",
      "execution_count": 1,
      "metadata": {
        "colab": {
          "base_uri": "https://localhost:8080/"
        },
        "id": "ZWoh64Cq8TRZ",
        "outputId": "5f9421ea-422e-45a3-e6f2-bd09f133e3c2"
      },
      "outputs": [
        {
          "output_type": "stream",
          "name": "stdout",
          "text": [
            "Looking in indexes: https://pypi.org/simple, https://us-python.pkg.dev/colab-wheels/public/simple/\n",
            "Requirement already satisfied: pyspark in /usr/local/lib/python3.8/dist-packages (3.3.2)\n",
            "Requirement already satisfied: py4j==0.10.9.5 in /usr/local/lib/python3.8/dist-packages (from pyspark) (0.10.9.5)\n"
          ]
        }
      ],
      "source": [
        "!pip install pyspark"
      ]
    },
    {
      "cell_type": "code",
      "source": [
        "from pyspark.sql import SparkSession\n",
        "from pyspark.sql.functions import *\n",
        "from pyspark.sql.types import StringType, IntegerType, BooleanType\n",
        "from pyspark.ml.feature import StopWordsRemover, RegexTokenizer\n",
        "from pyspark.ml.stat import Correlation"
      ],
      "metadata": {
        "id": "jD_hN9l08hAI"
      },
      "execution_count": 2,
      "outputs": []
    },
    {
      "cell_type": "code",
      "source": [
        "#start the spark session\n",
        "spark = SparkSession.builder.appName(\"ETL Pipeline\").getOrCreate()"
      ],
      "metadata": {
        "id": "WrNSPAje9eIg"
      },
      "execution_count": 3,
      "outputs": []
    },
    {
      "cell_type": "code",
      "source": [
        "#upload your dataset\n",
        "from google.colab import files\n",
        "uploaded = files.upload()"
      ],
      "metadata": {
        "colab": {
          "base_uri": "https://localhost:8080/",
          "height": 74
        },
        "id": "KhgL6CzT-e-B",
        "outputId": "83bba9d7-8853-4eb4-ae71-41d96c1f7b27"
      },
      "execution_count": 4,
      "outputs": [
        {
          "output_type": "display_data",
          "data": {
            "text/plain": [
              "<IPython.core.display.HTML object>"
            ],
            "text/html": [
              "\n",
              "     <input type=\"file\" id=\"files-42e0d187-2c26-439a-8167-6d5f5416587d\" name=\"files[]\" multiple disabled\n",
              "        style=\"border:none\" />\n",
              "     <output id=\"result-42e0d187-2c26-439a-8167-6d5f5416587d\">\n",
              "      Upload widget is only available when the cell has been executed in the\n",
              "      current browser session. Please rerun this cell to enable.\n",
              "      </output>\n",
              "      <script>// Copyright 2017 Google LLC\n",
              "//\n",
              "// Licensed under the Apache License, Version 2.0 (the \"License\");\n",
              "// you may not use this file except in compliance with the License.\n",
              "// You may obtain a copy of the License at\n",
              "//\n",
              "//      http://www.apache.org/licenses/LICENSE-2.0\n",
              "//\n",
              "// Unless required by applicable law or agreed to in writing, software\n",
              "// distributed under the License is distributed on an \"AS IS\" BASIS,\n",
              "// WITHOUT WARRANTIES OR CONDITIONS OF ANY KIND, either express or implied.\n",
              "// See the License for the specific language governing permissions and\n",
              "// limitations under the License.\n",
              "\n",
              "/**\n",
              " * @fileoverview Helpers for google.colab Python module.\n",
              " */\n",
              "(function(scope) {\n",
              "function span(text, styleAttributes = {}) {\n",
              "  const element = document.createElement('span');\n",
              "  element.textContent = text;\n",
              "  for (const key of Object.keys(styleAttributes)) {\n",
              "    element.style[key] = styleAttributes[key];\n",
              "  }\n",
              "  return element;\n",
              "}\n",
              "\n",
              "// Max number of bytes which will be uploaded at a time.\n",
              "const MAX_PAYLOAD_SIZE = 100 * 1024;\n",
              "\n",
              "function _uploadFiles(inputId, outputId) {\n",
              "  const steps = uploadFilesStep(inputId, outputId);\n",
              "  const outputElement = document.getElementById(outputId);\n",
              "  // Cache steps on the outputElement to make it available for the next call\n",
              "  // to uploadFilesContinue from Python.\n",
              "  outputElement.steps = steps;\n",
              "\n",
              "  return _uploadFilesContinue(outputId);\n",
              "}\n",
              "\n",
              "// This is roughly an async generator (not supported in the browser yet),\n",
              "// where there are multiple asynchronous steps and the Python side is going\n",
              "// to poll for completion of each step.\n",
              "// This uses a Promise to block the python side on completion of each step,\n",
              "// then passes the result of the previous step as the input to the next step.\n",
              "function _uploadFilesContinue(outputId) {\n",
              "  const outputElement = document.getElementById(outputId);\n",
              "  const steps = outputElement.steps;\n",
              "\n",
              "  const next = steps.next(outputElement.lastPromiseValue);\n",
              "  return Promise.resolve(next.value.promise).then((value) => {\n",
              "    // Cache the last promise value to make it available to the next\n",
              "    // step of the generator.\n",
              "    outputElement.lastPromiseValue = value;\n",
              "    return next.value.response;\n",
              "  });\n",
              "}\n",
              "\n",
              "/**\n",
              " * Generator function which is called between each async step of the upload\n",
              " * process.\n",
              " * @param {string} inputId Element ID of the input file picker element.\n",
              " * @param {string} outputId Element ID of the output display.\n",
              " * @return {!Iterable<!Object>} Iterable of next steps.\n",
              " */\n",
              "function* uploadFilesStep(inputId, outputId) {\n",
              "  const inputElement = document.getElementById(inputId);\n",
              "  inputElement.disabled = false;\n",
              "\n",
              "  const outputElement = document.getElementById(outputId);\n",
              "  outputElement.innerHTML = '';\n",
              "\n",
              "  const pickedPromise = new Promise((resolve) => {\n",
              "    inputElement.addEventListener('change', (e) => {\n",
              "      resolve(e.target.files);\n",
              "    });\n",
              "  });\n",
              "\n",
              "  const cancel = document.createElement('button');\n",
              "  inputElement.parentElement.appendChild(cancel);\n",
              "  cancel.textContent = 'Cancel upload';\n",
              "  const cancelPromise = new Promise((resolve) => {\n",
              "    cancel.onclick = () => {\n",
              "      resolve(null);\n",
              "    };\n",
              "  });\n",
              "\n",
              "  // Wait for the user to pick the files.\n",
              "  const files = yield {\n",
              "    promise: Promise.race([pickedPromise, cancelPromise]),\n",
              "    response: {\n",
              "      action: 'starting',\n",
              "    }\n",
              "  };\n",
              "\n",
              "  cancel.remove();\n",
              "\n",
              "  // Disable the input element since further picks are not allowed.\n",
              "  inputElement.disabled = true;\n",
              "\n",
              "  if (!files) {\n",
              "    return {\n",
              "      response: {\n",
              "        action: 'complete',\n",
              "      }\n",
              "    };\n",
              "  }\n",
              "\n",
              "  for (const file of files) {\n",
              "    const li = document.createElement('li');\n",
              "    li.append(span(file.name, {fontWeight: 'bold'}));\n",
              "    li.append(span(\n",
              "        `(${file.type || 'n/a'}) - ${file.size} bytes, ` +\n",
              "        `last modified: ${\n",
              "            file.lastModifiedDate ? file.lastModifiedDate.toLocaleDateString() :\n",
              "                                    'n/a'} - `));\n",
              "    const percent = span('0% done');\n",
              "    li.appendChild(percent);\n",
              "\n",
              "    outputElement.appendChild(li);\n",
              "\n",
              "    const fileDataPromise = new Promise((resolve) => {\n",
              "      const reader = new FileReader();\n",
              "      reader.onload = (e) => {\n",
              "        resolve(e.target.result);\n",
              "      };\n",
              "      reader.readAsArrayBuffer(file);\n",
              "    });\n",
              "    // Wait for the data to be ready.\n",
              "    let fileData = yield {\n",
              "      promise: fileDataPromise,\n",
              "      response: {\n",
              "        action: 'continue',\n",
              "      }\n",
              "    };\n",
              "\n",
              "    // Use a chunked sending to avoid message size limits. See b/62115660.\n",
              "    let position = 0;\n",
              "    do {\n",
              "      const length = Math.min(fileData.byteLength - position, MAX_PAYLOAD_SIZE);\n",
              "      const chunk = new Uint8Array(fileData, position, length);\n",
              "      position += length;\n",
              "\n",
              "      const base64 = btoa(String.fromCharCode.apply(null, chunk));\n",
              "      yield {\n",
              "        response: {\n",
              "          action: 'append',\n",
              "          file: file.name,\n",
              "          data: base64,\n",
              "        },\n",
              "      };\n",
              "\n",
              "      let percentDone = fileData.byteLength === 0 ?\n",
              "          100 :\n",
              "          Math.round((position / fileData.byteLength) * 100);\n",
              "      percent.textContent = `${percentDone}% done`;\n",
              "\n",
              "    } while (position < fileData.byteLength);\n",
              "  }\n",
              "\n",
              "  // All done.\n",
              "  yield {\n",
              "    response: {\n",
              "      action: 'complete',\n",
              "    }\n",
              "  };\n",
              "}\n",
              "\n",
              "scope.google = scope.google || {};\n",
              "scope.google.colab = scope.google.colab || {};\n",
              "scope.google.colab._files = {\n",
              "  _uploadFiles,\n",
              "  _uploadFilesContinue,\n",
              "};\n",
              "})(self);\n",
              "</script> "
            ]
          },
          "metadata": {}
        },
        {
          "output_type": "stream",
          "name": "stdout",
          "text": [
            "Saving chatgpt1.csv to chatgpt1 (2).csv\n"
          ]
        }
      ]
    },
    {
      "cell_type": "code",
      "source": [
        "import pandas as pd\n",
        "df = pd.read_csv(\"chatgpt1.csv\")"
      ],
      "metadata": {
        "id": "w9MnZyglEaXC"
      },
      "execution_count": 5,
      "outputs": []
    },
    {
      "cell_type": "code",
      "source": [
        "from pyspark.sql.types import StructType, StructField, StringType, IntegerType, TimestampType\n",
        "\n",
        "# define the schema for the dataframe\n",
        "schema = StructType([\n",
        "    StructField(\"Datetime\", TimestampType(), True),\n",
        "    StructField(\"Tweet Id\", StringType(), True),\n",
        "    StructField(\"Text\", StringType(), True),\n",
        "    StructField(\"Username\", StringType(), True),\n",
        "    StructField(\"Permalink\", StringType(), True),\n",
        "    StructField(\"User\", StringType(), True),\n",
        "    StructField(\"Outlinks\", StringType(), True),\n",
        "    StructField(\"CountLinks\", IntegerType(), True),\n",
        "    StructField(\"ReplyCount\", IntegerType(), True),\n",
        "    StructField(\"RetweetCount\", IntegerType(), True),\n",
        "    StructField(\"LikeCount\", IntegerType(), True),\n",
        "    StructField(\"QuoteCount\", IntegerType(), True),\n",
        "    StructField(\"ConversationId\", StringType(), True),\n",
        "    StructField(\"Language\", StringType(), True),\n",
        "    StructField(\"Source\", StringType(), True),\n",
        "    StructField(\"Media\", StringType(), True),\n",
        "    StructField(\"QuotedTweet\", StringType(), True),\n",
        "    StructField(\"MentionedUsers\", StringType(), True),\n",
        "    StructField(\"hashtag\", StringType(), True),\n",
        "    StructField(\"hastag_counts\", IntegerType(), True)\n",
        "])"
      ],
      "metadata": {
        "id": "PshnD0poD66V"
      },
      "execution_count": 6,
      "outputs": []
    },
    {
      "cell_type": "code",
      "source": [
        "# create the dataframe with the specified schema\n",
        "df = spark.read.csv(\"chatgpt1.csv\", header=True, schema=schema)\n"
      ],
      "metadata": {
        "id": "FJne3tY7Br9x"
      },
      "execution_count": 7,
      "outputs": []
    },
    {
      "cell_type": "code",
      "source": [
        "df.show()"
      ],
      "metadata": {
        "colab": {
          "base_uri": "https://localhost:8080/"
        },
        "id": "AF28jf_Wpp0J",
        "outputId": "1d472f1d-123c-47fc-d496-f43b5eecfe17"
      },
      "execution_count": 8,
      "outputs": [
        {
          "output_type": "stream",
          "name": "stdout",
          "text": [
            "+-------------------+-------------------+---------------------------+--------------------+--------------------+--------------------+--------------------+----------+----------+------------+---------+----------+--------------------+--------------------+--------------------+--------------------+--------------------+--------------------+-------+-------------+\n",
            "|           Datetime|           Tweet Id|                       Text|            Username|           Permalink|                User|            Outlinks|CountLinks|ReplyCount|RetweetCount|LikeCount|QuoteCount|      ConversationId|            Language|              Source|               Media|         QuotedTweet|      MentionedUsers|hashtag|hastag_counts|\n",
            "+-------------------+-------------------+---------------------------+--------------------+--------------------+--------------------+--------------------+----------+----------+------------+---------+----------+--------------------+--------------------+--------------------+--------------------+--------------------+--------------------+-------+-------------+\n",
            "|2023-01-22 13:44:34|1617156270871699456|ChatGPTで遊ぶの忘れてた！！|                null|                null|                null|                null|      null|      null|        null|     null|      null|                null|                null|                null|                null|                null|                null|   null|         null|\n",
            "|               null|               null|                       null|                null|                null|                null|                null|      null|      null|        null|     null|      null|                null|                null|                null|                null|                null|                null|   null|         null|\n",
            "|               null|               null|                       null|                null|                null|                null|                null|      null|      null|        null|     null|      null|                null|                null|                null|                null|                null|                null|   null|         null|\n",
            "|               null|               null|                       null|                null|                null|                null|                null|      null|      null|        null|     null|      null|                null|                null|                null|                null|                null|                null|   null|         null|\n",
            "|               null|               null|                       null|                null|                null|                null|                null|      null|      null|        null|     null|      null|                null|                null|                null|                null|                null|                null|   null|         null|\n",
            "|               null|        mochico0123|       https://twitter.c...|https://twitter.c...|                null|                null|                   1|         0|         5|           0|     null|      null|\"<a href=\"\"http:/...|                null|                null|                null|                  []|                   0|   null|         null|\n",
            "|2023-01-22 13:44:39|1617156291046133761|       @AlexandrovnaIng ...|     Caput_LupinumSG|https://twitter.c...|https://twitter.c...|                null|      null|         1|           0|        5|         0| 1617148639993806848|                  en|\"<a href=\"\"http:/...|                null|                null|[User(username='A...|     []|            0|\n",
            "|2023-01-22 13:44:44|1617156308926349312|       Schaut Euch an, w...|                null|                null|                null|                null|      null|      null|        null|     null|      null|                null|                null|                null|                null|                null|                null|   null|         null|\n",
            "|               null|               null|                       null|                null|                null|                null|                null|      null|      null|        null|     null|      null|                null|                null|                null|                null|                null|                null|   null|         null|\n",
            "|               null|              ciffi|       https://twitter.c...|https://twitter.c...|['https://us02web...|['https://t.co/Ds...|                   0|         0|         4|           0|     null|      null|\"<a href=\"\"http:/...|[Photo(previewUrl...|https://twitter.c...|[User(username='f...|        ['#ChatGPT']|                   1|   null|         null|\n",
            "|2023-01-22 13:44:49|1617156332297256961|       Bow down to chatG...|       Vishwasrisiri|https://twitter.c...|https://twitter.c...|['https://twitter...|      null|         0|           0|        2|         0| 1617156332297256961|                  en|\"<a href=\"\"http:/...|                null|https://twitter.c...|                null|     []|            0|\n",
            "|2023-01-22 13:44:52|1617156345064570880|       Profilinde vatan,...|      0xGenetikciniz|https://twitter.c...|https://twitter.c...|                null|      null|         0|           0|        4|         0| 1617156345064570880|                  tr|\"<a href=\"\"http:/...|                null|                null|                null|     []|            0|\n",
            "|2023-01-22 13:45:00|1617156376983207937|       ChatGPT’nin bilin...|                null|                null|                null|                null|      null|      null|        null|     null|      null|                null|                null|                null|                null|                null|                null|   null|         null|\n",
            "|               null|               null|                       null|                null|                null|                null|                null|      null|      null|        null|     null|      null|                null|                null|                null|                null|                null|                null|   null|         null|\n",
            "|               null|      GazeteKarinca|       https://twitter.c...|https://twitter.c...|['https://gazetek...|['https://t.co/da...|                   0|         0|         1|           0|     null|      null|\"<a href=\"\"https:...|                null|                null|                null|                  []|                   0|   null|         null|\n",
            "|2023-01-22 13:45:03|1617156389217894400|       ChatGPT runs 10K ...|      FierceElectron|https://twitter.c...|https://twitter.c...|['https://www.fie...|      null|         0|           0|        0|         0| 1617156389217894400|                  en|\"<a href=\"\"https:...|                null|                null|                null|     []|            0|\n",
            "|2023-01-22 13:45:04|1617156393898745858|       @SWENGDAD There i...|          xlr8harder|https://twitter.c...|https://twitter.c...|                null|      null|         1|           0|        3|         0| 1617149595901104130|                  en|\"<a href=\"\"https:...|                null|                null|[User(username='S...|     []|            0|\n",
            "|2023-01-22 13:45:06|1617156404137295878|       I created a ficti...|                null|                null|                null|                null|      null|      null|        null|     null|      null|                null|                null|                null|                null|                null|                null|   null|         null|\n",
            "|               null|               null|                       null|                null|                null|                null|                null|      null|      null|        null|     null|      null|                null|                null|                null|                null|                null|                null|   null|         null|\n",
            "|               null|        Kosuke_dazo|       https://twitter.c...|https://twitter.c...|['https://oriori....|['https://t.co/gt...|                   0|         1|         2|           1|     null|      null|\"<a href=\"\"http:/...|[Photo(previewUrl...|                null|                null|['#ChatGPT', '#mi...|                   2|   null|         null|\n",
            "+-------------------+-------------------+---------------------------+--------------------+--------------------+--------------------+--------------------+----------+----------+------------+---------+----------+--------------------+--------------------+--------------------+--------------------+--------------------+--------------------+-------+-------------+\n",
            "only showing top 20 rows\n",
            "\n"
          ]
        }
      ]
    },
    {
      "cell_type": "code",
      "source": [
        "# drop the unnecessary columns\n",
        "df_cleaned = df.drop(\"Tweet Id\", \"Permalink\", \"User\", \"Outlinks\", \"ConversationId\", \"Source\", \"Media\", \"QuotedTweet\", \"MentionedUsers\", \"hashtag\",\"Username\",\"CountLinks\",\"ReplyCount\",\"RetweetCount\",\"LikeCount\",\"QuoteCount\",\"Language\",\"hastag_counts\")"
      ],
      "metadata": {
        "id": "hZm9bCHw9h84"
      },
      "execution_count": 9,
      "outputs": []
    },
    {
      "cell_type": "code",
      "source": [
        "df_cleaned.show()"
      ],
      "metadata": {
        "colab": {
          "base_uri": "https://localhost:8080/"
        },
        "id": "_zxkrCehphZe",
        "outputId": "9a1b2e8c-287d-4817-a9a5-4c753616be8c"
      },
      "execution_count": 10,
      "outputs": [
        {
          "output_type": "stream",
          "name": "stdout",
          "text": [
            "+-------------------+---------------------------+\n",
            "|           Datetime|                       Text|\n",
            "+-------------------+---------------------------+\n",
            "|2023-01-22 13:44:34|ChatGPTで遊ぶの忘れてた！！|\n",
            "|               null|                       null|\n",
            "|               null|                       null|\n",
            "|               null|                       null|\n",
            "|               null|                       null|\n",
            "|               null|       https://twitter.c...|\n",
            "|2023-01-22 13:44:39|       @AlexandrovnaIng ...|\n",
            "|2023-01-22 13:44:44|       Schaut Euch an, w...|\n",
            "|               null|                       null|\n",
            "|               null|       https://twitter.c...|\n",
            "|2023-01-22 13:44:49|       Bow down to chatG...|\n",
            "|2023-01-22 13:44:52|       Profilinde vatan,...|\n",
            "|2023-01-22 13:45:00|       ChatGPT’nin bilin...|\n",
            "|               null|                       null|\n",
            "|               null|       https://twitter.c...|\n",
            "|2023-01-22 13:45:03|       ChatGPT runs 10K ...|\n",
            "|2023-01-22 13:45:04|       @SWENGDAD There i...|\n",
            "|2023-01-22 13:45:06|       I created a ficti...|\n",
            "|               null|                       null|\n",
            "|               null|       https://twitter.c...|\n",
            "+-------------------+---------------------------+\n",
            "only showing top 20 rows\n",
            "\n"
          ]
        }
      ]
    },
    {
      "cell_type": "code",
      "source": [
        "from pyspark.sql import functions as F\n",
        "# convert the tweet text to lowercase\n",
        "df_cleaned = df_cleaned.withColumn(\"Text\", F.lower(F.col(\"Text\")))\n"
      ],
      "metadata": {
        "id": "8-lqM5rHBmbk"
      },
      "execution_count": 11,
      "outputs": []
    },
    {
      "cell_type": "code",
      "source": [
        "df_cleaned.show()"
      ],
      "metadata": {
        "colab": {
          "base_uri": "https://localhost:8080/"
        },
        "id": "S_GOC6FMp9ga",
        "outputId": "5b4d3ea2-2425-4d79-9437-885021af83f2"
      },
      "execution_count": 12,
      "outputs": [
        {
          "output_type": "stream",
          "name": "stdout",
          "text": [
            "+-------------------+---------------------------+\n",
            "|           Datetime|                       Text|\n",
            "+-------------------+---------------------------+\n",
            "|2023-01-22 13:44:34|chatgptで遊ぶの忘れてた！！|\n",
            "|               null|                       null|\n",
            "|               null|                       null|\n",
            "|               null|                       null|\n",
            "|               null|                       null|\n",
            "|               null|       https://twitter.c...|\n",
            "|2023-01-22 13:44:39|       @alexandrovnaing ...|\n",
            "|2023-01-22 13:44:44|       schaut euch an, w...|\n",
            "|               null|                       null|\n",
            "|               null|       https://twitter.c...|\n",
            "|2023-01-22 13:44:49|       bow down to chatg...|\n",
            "|2023-01-22 13:44:52|       profilinde vatan,...|\n",
            "|2023-01-22 13:45:00|       chatgpt’nin bilin...|\n",
            "|               null|                       null|\n",
            "|               null|       https://twitter.c...|\n",
            "|2023-01-22 13:45:03|       chatgpt runs 10k ...|\n",
            "|2023-01-22 13:45:04|       @swengdad there i...|\n",
            "|2023-01-22 13:45:06|       i created a ficti...|\n",
            "|               null|                       null|\n",
            "|               null|       https://twitter.c...|\n",
            "+-------------------+---------------------------+\n",
            "only showing top 20 rows\n",
            "\n"
          ]
        }
      ]
    },
    {
      "cell_type": "code",
      "source": [
        "# remove URLs from the tweet text\n",
        "df_cleaned = df_cleaned.withColumn(\"Text\", F.regexp_replace(F.col(\"Text\"), r\"http\\S+\", \"\"))\n",
        "df_cleaned.show()"
      ],
      "metadata": {
        "colab": {
          "base_uri": "https://localhost:8080/"
        },
        "id": "o7robVuAn1nT",
        "outputId": "abde263e-2129-480f-f37a-bac4972f5cc5"
      },
      "execution_count": 13,
      "outputs": [
        {
          "output_type": "stream",
          "name": "stdout",
          "text": [
            "+-------------------+---------------------------+\n",
            "|           Datetime|                       Text|\n",
            "+-------------------+---------------------------+\n",
            "|2023-01-22 13:44:34|chatgptで遊ぶの忘れてた！！|\n",
            "|               null|                       null|\n",
            "|               null|                       null|\n",
            "|               null|                       null|\n",
            "|               null|                       null|\n",
            "|               null|                           |\n",
            "|2023-01-22 13:44:39|       @alexandrovnaing ...|\n",
            "|2023-01-22 13:44:44|       schaut euch an, w...|\n",
            "|               null|                       null|\n",
            "|               null|                           |\n",
            "|2023-01-22 13:44:49|       bow down to chatg...|\n",
            "|2023-01-22 13:44:52|       profilinde vatan,...|\n",
            "|2023-01-22 13:45:00|       chatgpt’nin bilin...|\n",
            "|               null|                       null|\n",
            "|               null|                           |\n",
            "|2023-01-22 13:45:03|       chatgpt runs 10k ...|\n",
            "|2023-01-22 13:45:04|       @swengdad there i...|\n",
            "|2023-01-22 13:45:06|       i created a ficti...|\n",
            "|               null|                       null|\n",
            "|               null|                           |\n",
            "+-------------------+---------------------------+\n",
            "only showing top 20 rows\n",
            "\n"
          ]
        }
      ]
    },
    {
      "cell_type": "code",
      "source": [
        "# remove punctuation marks from the tweet text\n",
        "df_cleaned = df_cleaned.withColumn(\"Text\", F.regexp_replace(F.col(\"Text\"), r\"[^\\w\\s]\", \"\"))\n",
        "df_cleaned.show()"
      ],
      "metadata": {
        "colab": {
          "base_uri": "https://localhost:8080/"
        },
        "id": "ArA2i00On798",
        "outputId": "7accae6b-92f9-4d11-9dc3-591fbfb2520b"
      },
      "execution_count": 14,
      "outputs": [
        {
          "output_type": "stream",
          "name": "stdout",
          "text": [
            "+-------------------+--------------------+\n",
            "|           Datetime|                Text|\n",
            "+-------------------+--------------------+\n",
            "|2023-01-22 13:44:34|             chatgpt|\n",
            "|               null|                null|\n",
            "|               null|                null|\n",
            "|               null|                null|\n",
            "|               null|                null|\n",
            "|               null|                    |\n",
            "|2023-01-22 13:44:39|alexandrovnaing p...|\n",
            "|2023-01-22 13:44:44|schaut euch an wa...|\n",
            "|               null|                null|\n",
            "|               null|                    |\n",
            "|2023-01-22 13:44:49|bow down to chatg...|\n",
            "|2023-01-22 13:44:52|profilinde vatan ...|\n",
            "|2023-01-22 13:45:00|chatgptnin bilinm...|\n",
            "|               null|                null|\n",
            "|               null|                    |\n",
            "|2023-01-22 13:45:03|chatgpt runs 10k ...|\n",
            "|2023-01-22 13:45:04|swengdad there is...|\n",
            "|2023-01-22 13:45:06|i created a ficti...|\n",
            "|               null|                null|\n",
            "|               null|                    |\n",
            "+-------------------+--------------------+\n",
            "only showing top 20 rows\n",
            "\n"
          ]
        }
      ]
    },
    {
      "cell_type": "code",
      "source": [
        "df_cleaned = df_cleaned.na.drop()\n",
        "df_cleaned.show()\n"
      ],
      "metadata": {
        "colab": {
          "base_uri": "https://localhost:8080/"
        },
        "id": "OlHv_WThu-Lt",
        "outputId": "84b5e03d-2024-4414-f115-58b996bd85a4"
      },
      "execution_count": 15,
      "outputs": [
        {
          "output_type": "stream",
          "name": "stdout",
          "text": [
            "+-------------------+--------------------+\n",
            "|           Datetime|                Text|\n",
            "+-------------------+--------------------+\n",
            "|2023-01-22 13:44:34|             chatgpt|\n",
            "|2023-01-22 13:44:39|alexandrovnaing p...|\n",
            "|2023-01-22 13:44:44|schaut euch an wa...|\n",
            "|2023-01-22 13:44:49|bow down to chatg...|\n",
            "|2023-01-22 13:44:52|profilinde vatan ...|\n",
            "|2023-01-22 13:45:00|chatgptnin bilinm...|\n",
            "|2023-01-22 13:45:03|chatgpt runs 10k ...|\n",
            "|2023-01-22 13:45:04|swengdad there is...|\n",
            "|2023-01-22 13:45:06|i created a ficti...|\n",
            "|2023-01-22 13:45:07|it will look simi...|\n",
            "|2023-01-22 13:45:07|if you ever playe...|\n",
            "|2023-01-22 13:45:08|ai will initiate ...|\n",
            "|2023-01-22 13:45:10|         150122 2245|\n",
            "|2023-01-22 13:45:12|s dobre i ze wiec...|\n",
            "|2023-01-22 13:45:14|chatgpt wydaje na...|\n",
            "|2023-01-22 13:45:15| chatgpt writes e...|\n",
            "|2023-01-22 13:45:18|jai juste demande...|\n",
            "|2023-01-22 13:45:22|google presenta s...|\n",
            "|2023-01-22 13:45:26|pay 42 per month ...|\n",
            "|2023-01-22 13:45:32|your own ai knowl...|\n",
            "+-------------------+--------------------+\n",
            "only showing top 20 rows\n",
            "\n"
          ]
        }
      ]
    },
    {
      "cell_type": "code",
      "source": [
        "from pyspark.ml.feature import Tokenizer, StopWordsRemover\n",
        "# tokenize the tweet text\n",
        "tokenizer = Tokenizer(inputCol=\"Text\", outputCol=\"words\")\n",
        "df_tokens = tokenizer.transform(df_cleaned)\n"
      ],
      "metadata": {
        "id": "j8XZDABDoAJ-"
      },
      "execution_count": 16,
      "outputs": []
    },
    {
      "cell_type": "code",
      "source": [
        "# remove stop words from the tokens\n",
        "remover = StopWordsRemover(inputCol=\"words\", outputCol=\"filtered_words\")\n",
        "df_filtered = remover.transform(df_tokens)"
      ],
      "metadata": {
        "id": "90T_zJnyvTJH"
      },
      "execution_count": 17,
      "outputs": []
    },
    {
      "cell_type": "code",
      "source": [
        "df_filtered.show()"
      ],
      "metadata": {
        "colab": {
          "base_uri": "https://localhost:8080/"
        },
        "id": "D3zwHZOcqHp6",
        "outputId": "90bf7396-91d4-45e2-c901-f7be05fd82d1"
      },
      "execution_count": 18,
      "outputs": [
        {
          "output_type": "stream",
          "name": "stdout",
          "text": [
            "+-------------------+--------------------+--------------------+--------------------+\n",
            "|           Datetime|                Text|               words|      filtered_words|\n",
            "+-------------------+--------------------+--------------------+--------------------+\n",
            "|2023-01-22 13:44:34|             chatgpt|           [chatgpt]|           [chatgpt]|\n",
            "|2023-01-22 13:44:39|alexandrovnaing p...|[alexandrovnaing,...|[alexandrovnaing,...|\n",
            "|2023-01-22 13:44:44|schaut euch an wa...|[schaut, euch, an...|[schaut, euch, fo...|\n",
            "|2023-01-22 13:44:49|bow down to chatg...|[bow, down, to, c...|      [bow, chatgpt]|\n",
            "|2023-01-22 13:44:52|profilinde vatan ...|[profilinde, vata...|[profilinde, vata...|\n",
            "|2023-01-22 13:45:00|chatgptnin bilinm...|[chatgptnin, bili...|[chatgptnin, bili...|\n",
            "|2023-01-22 13:45:03|chatgpt runs 10k ...|[chatgpt, runs, 1...|[chatgpt, runs, 1...|\n",
            "|2023-01-22 13:45:04|swengdad there is...|[swengdad, there,...|[swengdad, repeti...|\n",
            "|2023-01-22 13:45:06|i created a ficti...|[i, created, a, f...|[created, fiction...|\n",
            "|2023-01-22 13:45:07|it will look simi...|[it, will, look, ...|[look, similar, i...|\n",
            "|2023-01-22 13:45:07|if you ever playe...|[if, you, ever, p...|[ever, played, ga...|\n",
            "|2023-01-22 13:45:08|ai will initiate ...|[ai, will, initia...|[ai, initiate, ne...|\n",
            "|2023-01-22 13:45:10|         150122 2245|      [150122, 2245]|      [150122, 2245]|\n",
            "|2023-01-22 13:45:12|s dobre i ze wiec...|[s, dobre, i, ze,...|[dobre, ze, wieci...|\n",
            "|2023-01-22 13:45:14|chatgpt wydaje na...|[chatgpt, wydaje,...|[chatgpt, wydaje,...|\n",
            "|2023-01-22 13:45:15| chatgpt writes e...|[, chatgpt, write...|[, chatgpt, write...|\n",
            "|2023-01-22 13:45:18|jai juste demande...|[jai, juste, dema...|[jai, juste, dema...|\n",
            "|2023-01-22 13:45:22|google presenta s...|[google, presenta...|[google, presenta...|\n",
            "|2023-01-22 13:45:26|pay 42 per month ...|[pay, 42, per, mo...|[pay, 42, per, mo...|\n",
            "|2023-01-22 13:45:32|your own ai knowl...|[your, own, ai, k...|[ai, knowledge, b...|\n",
            "+-------------------+--------------------+--------------------+--------------------+\n",
            "only showing top 20 rows\n",
            "\n"
          ]
        }
      ]
    },
    {
      "cell_type": "code",
      "source": [
        "from textblob import TextBlob\n",
        "from pyspark.sql.functions import udf\n",
        "from pyspark.sql.types import StringType\n",
        "\n",
        "# define a function to get the sentiment polarity using TextBlob\n",
        "def get_sentiment(text):\n",
        "  blob = TextBlob(text)\n",
        "  sentiment = blob.sentiment.polarity\n",
        "  return sentiment\n",
        "\n",
        "# register the function as a UDF to use with PySpark dataframe\n",
        "sentiment_udf = udf(get_sentiment, StringType())\n",
        "\n",
        "# apply the sentiment analysis function to the filtered tweets dataframe\n",
        "df_sentiment = df_filtered.withColumn(\"sentiment\", sentiment_udf(\"Text\"))\n",
        "\n",
        "# classify the tweets based on the sentiment score threshold\n",
        "positive_threshold = 0.2\n",
        "negative_threshold = -0.2\n",
        "df_sentiment = df_sentiment.withColumn(\"sentiment_category\", \\\n",
        "                  F.when(F.col(\"sentiment\") > positive_threshold, \"positive\") \\\n",
        "                  .when(F.col(\"sentiment\") < negative_threshold, \"negative\") \\\n",
        "                  .otherwise(\"neutral\"))\n",
        "\n",
        "# print the sentiment analysis results\n",
        "df_sentiment.select(\"Text\", \"sentiment\", \"sentiment_category\").show(truncate=False)\n"
      ],
      "metadata": {
        "colab": {
          "base_uri": "https://localhost:8080/"
        },
        "id": "xew683UOt7m9",
        "outputId": "7f1edd0b-ebd8-464b-88fa-099f1c91ab91"
      },
      "execution_count": 19,
      "outputs": [
        {
          "output_type": "stream",
          "name": "stdout",
          "text": [
            "+------------------------------------------------------------------------------------------------------------------------------------------------------------------------------------------------------------------------+--------------------+------------------+\n",
            "|Text                                                                                                                                                                                                                    |sentiment           |sentiment_category|\n",
            "+------------------------------------------------------------------------------------------------------------------------------------------------------------------------------------------------------------------------+--------------------+------------------+\n",
            "|chatgpt                                                                                                                                                                                                                 |0.0                 |neutral           |\n",
            "|alexandrovnaing prohibition of chatgpt has been added to the honor code of my daughters school                                                                                                                          |0.0                 |neutral           |\n",
            "|schaut euch an was fobizz dianaknodel alles  auf die piste bringt um euch mitzunehmen                                                                                                                                   |0.0                 |neutral           |\n",
            "|bow down to chatgpt                                                                                                                                                                                                     |-0.15555555555555559|neutral           |\n",
            "|profilinde vatan trkiye falan yazan bireylerin ilk koruduu ey lkenin dini falan asla amaz bu chatgpt yaz bunu bi kenara                                                                                                 |0.0                 |neutral           |\n",
            "|chatgptnin bilinmeyen arka plan ucuz i gc                                                                                                                                                                               |0.0                 |neutral           |\n",
            "|chatgpt runs 10k nvidia training gpus with potential for thousands more                                                                                                                                                 |0.25                |positive          |\n",
            "|swengdad there is repetitive work in every job there are lots of small tasks that can leverage chatgpt or copilot and keep you working at a higher level of abstraction                                                 |-0.08333333333333333|neutral           |\n",
            "|i created a fictional jewelry brand using chatgpt and midjourney                                                                                                                                                        |0.0                 |neutral           |\n",
            "|it will look similar to irobot the company will install a mini fridge size computer you will be able to make a phone call hands free no phone visible you and the conversation will move room to room smarthome chatgpt |0.3                 |positive          |\n",
            "|if you ever played a game like assassins creed odyssey or valhalla or any other rpg where a tour guide will be with you throughout the game helping you navigate the virtual world                                      |-0.30833333333333335|negative          |\n",
            "|ai will initiate a new era of entrepreneurship a thesis                                                                                                                                                                 |0.13636363636363635 |neutral           |\n",
            "|150122 2245                                                                                                                                                                                                             |0.0                 |neutral           |\n",
            "|s dobre i ze wieci na temat chatgpt                                                                                                                                                                                     |0.0                 |neutral           |\n",
            "|chatgpt wydaje na operacj w chmurze 3 mln dolarw dziennie zgadnijcie u kogo u drugiego najwikszego dostawcy cloud computing na wiecie  microsoft dodatkowo gigant wykupi 49 akcji firmy za 10 mld dolarw                |0.0                 |neutral           |\n",
            "| chatgpt writes excel formulas                                                                                                                                                                                          |0.0                 |neutral           |\n",
            "|jai juste demander  lia chatgpt de faire un tweet guettez la bastos que jme prend ptdrrrr                                                                                                                               |0.0                 |neutral           |\n",
            "|google presenta sparrow su inteligencia artificial que competir con chatgpt  a travs de culturainform                                                                                                                   |-0.6                |negative          |\n",
            "|pay 42 per month or start using your brain again                                                                                                                                                                        |0.0                 |neutral           |\n",
            "|your own ai knowledge base chatbot with openai without finetuning                                                                                                                                                       |-0.10000000000000003|neutral           |\n",
            "+------------------------------------------------------------------------------------------------------------------------------------------------------------------------------------------------------------------------+--------------------+------------------+\n",
            "only showing top 20 rows\n",
            "\n"
          ]
        }
      ]
    },
    {
      "cell_type": "code",
      "source": [
        "import matplotlib.pyplot as plt\n",
        "\n",
        "# group the sentiment categories and count the number of tweets in each category\n",
        "sentiment_counts = df_sentiment.groupBy(\"sentiment_category\").count().collect()\n",
        "\n",
        "# convert the results to a pandas dataframe for plotting\n",
        "sentiment_counts_df = pd.DataFrame(sentiment_counts, columns=[\"sentiment_category\", \"count\"])\n",
        "\n",
        "# plot the sentiment counts as a bar graph\n",
        "plt.bar(sentiment_counts_df[\"sentiment_category\"], sentiment_counts_df[\"count\"])\n",
        "plt.title(\"Sentiment Analysis Results\")\n",
        "plt.xlabel(\"Sentiment Category\")\n",
        "plt.ylabel(\"Tweet Count\")\n",
        "plt.show()\n"
      ],
      "metadata": {
        "colab": {
          "base_uri": "https://localhost:8080/",
          "height": 295
        },
        "id": "ePGkdbXfuf0H",
        "outputId": "fbb74748-05e6-42f6-ff08-1d993c55b6fa"
      },
      "execution_count": 20,
      "outputs": [
        {
          "output_type": "display_data",
          "data": {
            "text/plain": [
              "<Figure size 432x288 with 1 Axes>"
            ],
            "image/png": "[encoded data removed]"
          },
          "metadata": {
            "needs_background": "light"
          }
        }
      ]
    }
  ]
}